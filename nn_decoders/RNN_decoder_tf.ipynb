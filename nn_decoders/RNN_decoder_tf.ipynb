{
 "cells": [
  {
   "cell_type": "code",
   "execution_count": 48,
   "id": "5dd7ba66",
   "metadata": {},
   "outputs": [
    {
     "name": "stdout",
     "output_type": "stream",
     "text": [
      "Epoch 1/10\n",
      "100/100 [==============================] - 5s 5ms/step - loss: 0.6487 - accuracy: 0.6051\n",
      "Epoch 2/10\n",
      "100/100 [==============================] - 0s 5ms/step - loss: 0.5534 - accuracy: 0.7216\n",
      "Epoch 3/10\n",
      "100/100 [==============================] - 0s 4ms/step - loss: 0.5321 - accuracy: 0.7363\n",
      "Epoch 4/10\n",
      "100/100 [==============================] - 0s 4ms/step - loss: 0.5194 - accuracy: 0.7410\n",
      "Epoch 5/10\n",
      "100/100 [==============================] - 0s 4ms/step - loss: 0.5165 - accuracy: 0.7382\n",
      "Epoch 6/10\n",
      "100/100 [==============================] - 0s 4ms/step - loss: 0.5144 - accuracy: 0.7444\n",
      "Epoch 7/10\n",
      "100/100 [==============================] - 0s 4ms/step - loss: 0.5094 - accuracy: 0.7432\n",
      "Epoch 8/10\n",
      "100/100 [==============================] - 0s 4ms/step - loss: 0.5066 - accuracy: 0.7520\n",
      "Epoch 9/10\n",
      "100/100 [==============================] - 1s 5ms/step - loss: 0.5077 - accuracy: 0.7473\n",
      "Epoch 10/10\n",
      "100/100 [==============================] - 0s 4ms/step - loss: 0.5055 - accuracy: 0.7463\n",
      "25/25 [==============================] - 1s 2ms/step - loss: 0.5792 - accuracy: 0.7093\n",
      "Test accuracy: 0.7092731595039368\n"
     ]
    }
   ],
   "source": [
    "import tensorflow as tf\n",
    "import numpy as np\n",
    "\n",
    "p = 0.2\n",
    "number_shots = 1000 \n",
    "circuit_iter = 1\n",
    "L = 12\n",
    "depth = L-1 # samples will have depth = L-1 since they exclude very last layer containing final measurements\n",
    "measurement_record_0 = np.load(\"../data/measurement_record_L_{}_p_{}_Q_{}_numbershots_{}_iter_{}.npy\".format(L,p,0,number_shots,circuit_iter))\n",
    "measurement_record_1 = np.load(\"../data/measurement_record_L_{}_p_{}_Q_{}_numbershots_{}_iter_{}.npy\".format(L,p,1,number_shots,circuit_iter))\n",
    "measurement_records = np.concatenate([measurement_record_0,measurement_record_1],axis=0)\n",
    "num_meas_records_0 = len(measurement_record_0[:,0,0])\n",
    "num_meas_records_1 = len(measurement_record_1[:,0,0])   \n",
    "num_meas_records = num_meas_records_0+num_meas_records_1\n",
    "charge_output_0 = np.zeros(num_meas_records_0)\n",
    "charge_output_1 = np.ones(num_meas_records_1)\n",
    "charge_output = np.concatenate([charge_output_0,charge_output_1],axis=0)\n",
    "p = np.random.permutation(num_meas_records) \n",
    "data = measurement_records[p,:,:]\n",
    "labels = charge_output[p]\n",
    "test_percentage = 0.2 \n",
    "train_percentage = 1 - test_percentage \n",
    "number_samples = len(measurement_records)\n",
    "train_data_number_samples = round(train_percentage * number_samples)\n",
    "train_data = data[0:train_data_number_samples,:,:]\n",
    "train_labels = labels[0:train_data_number_samples]\n",
    "test_data = data[train_data_number_samples:number_samples,:,:]\n",
    "test_labels = labels[train_data_number_samples:number_samples]\n",
    "\n",
    "# Define the RNN model\n",
    "model = tf.keras.Sequential([\n",
    "    tf.keras.layers.Input(shape=(depth, L)),\n",
    "    tf.keras.layers.LSTM(32),\n",
    "    tf.keras.layers.Dense(1, activation='sigmoid')\n",
    "])\n",
    "\n",
    "\"\"\"\n",
    "# Compile the model with binary crossentropy loss and Adam optimizer\n",
    "model.compile(loss='binary_crossentropy', optimizer='adam', metrics=['accuracy'])\n",
    "\n",
    "# Train the model\n",
    "model.fit(train_data, train_labels, epochs=10, batch_size=32) \n",
    "\n",
    "# test the model\n",
    "test_loss, test_acc = model.evaluate(test_data, test_labels)\n",
    "print('Test accuracy:', test_acc)\n",
    "\"\"\"\n",
    "# Compile the model with binary crossentropy loss and Adam optimizer\n",
    "model.compile(loss='binary_crossentropy', optimizer='adam', metrics=['accuracy', 'loss'])\n",
    "\n",
    "# Train the model with sample weights\n",
    "history = model.fit(train_data, train_labels, epochs=10, batch_size=32)\n",
    "\n",
    "# Evaluate the model on some new data\n",
    "test_loss, test_acc, test_train_loss = model.evaluate(test_data, test_labels, return_dict=True)['loss'], model.evaluate(test_data, test_labels, return_dict=True)['accuracy'], history.history['loss']\n",
    "print('Test accuracy:', test_acc)\n",
    "print('Test loss:', test_loss)\n",
    "print('Training loss:', test_train_loss)\n"
   ]
  },
  {
   "cell_type": "code",
   "execution_count": 30,
   "id": "137b7d36",
   "metadata": {},
   "outputs": [
    {
     "data": {
      "text/plain": [
       "Text(0, 0.5, 'accuracy')"
      ]
     },
     "execution_count": 30,
     "metadata": {},
     "output_type": "execute_result"
    },
    {
     "data": {
      "image/png": "[encoded data removed]",
      "text/plain": [
       "<Figure size 640x480 with 1 Axes>"
      ]
     },
     "metadata": {},
     "output_type": "display_data"
    }
   ],
   "source": [
    "import matplotlib.pyplot as plt \n",
    "val_accuracy = [0.4880, 0.7482, 0.8850, 0.9075, 0.9173, 0.9300, 0.9600, 0.995, 1, 0.9925, 1]\n",
    "# val_accuracy_0.5 = 0.8263\n",
    "meas_probas = [0, 0.1, 0.2, 0.3, 0.4, 0.5, 0.6, 0.7, 0.8, 0.9, 1]\n",
    "plt.plot(meas_probas, val_accuracy)\n",
    "plt.xlabel('measurement rate p')\n",
    "plt.ylabel('accuracy')"
   ]
  }
 ],
 "metadata": {
  "kernelspec": {
   "display_name": "mipt",
   "language": "python",
   "name": "python3"
  },
  "language_info": {
   "codemirror_mode": {
    "name": "ipython",
    "version": 3
   },
   "file_extension": ".py",
   "mimetype": "text/x-python",
   "name": "python",
   "nbconvert_exporter": "python",
   "pygments_lexer": "ipython3",
   "version": "3.10.9"
  },
  "toc": {
   "base_numbering": 1,
   "nav_menu": {},
   "number_sections": true,
   "sideBar": true,
   "skip_h1_title": false,
   "title_cell": "Table of Contents",
   "title_sidebar": "Contents",
   "toc_cell": false,
   "toc_position": {},
   "toc_section_display": true,
   "toc_window_display": false
  },
  "vscode": {
   "interpreter": {
    "hash": "aad86ddac81a43bb81118cddf5163a8939b57853c2b56092156bc0fb02e20aa3"
   }
  }
 },
 "nbformat": 4,
 "nbformat_minor": 5
}
