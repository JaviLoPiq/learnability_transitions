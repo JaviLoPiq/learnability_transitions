{
 "cells": [
  {
   "attachments": {},
   "cell_type": "markdown",
   "id": "486559b5",
   "metadata": {},
   "source": [
    "Generic CNN based on PyTorch that classifies the two possible outputs of a blackbox function based on input bitstrings. The CNN will take a bitstring of length n as input and output a binary classification (0 or 1)."
   ]
  },
  {
   "cell_type": "code",
   "execution_count": 8,
   "id": "e6dd2c76",
   "metadata": {},
   "outputs": [],
   "source": [
    "import torch\n",
    "import torch.nn as nn\n",
    "\n",
    "class ConvNet(nn.Module):\n",
    "  def __init__(self):\n",
    "    super().__init__()\n",
    "    self.conv1 = nn.Conv2d(3, 8, 3, padding=1)\n",
    "    self.batchnorm1 = nn.BatchNorm2d(8)\n",
    "    self.conv2 = nn.Conv2d(8, 8, 3, padding=1)\n",
    "    self.batchnorm2 = nn.BatchNorm2d(8)\n",
    "    self.pool2 = nn.MaxPool2d(2)\n",
    "    self.conv3 = nn.Conv2d(8, 32, 3, padding=1)\n",
    "    self.batchnorm3 = nn.BatchNorm2d(32)\n",
    "    self.conv4 = nn.Conv2d(32, 32, 3, padding=1)\n",
    "    self.batchnorm4 = nn.BatchNorm2d(32)\n",
    "    self.pool4 = nn.MaxPool2d(2)\n",
    "    self.conv5 = nn.Conv2d(32, 128, 3, padding=1)\n",
    "    self.batchnorm5 = nn.BatchNorm2d(128)\n",
    "    self.conv6 = nn.Conv2d(128, 128, 3, padding=1)\n",
    "    self.batchnorm6 = nn.BatchNorm2d(128)\n",
    "    self.pool6 = nn.MaxPool2d(2)\n",
    "    self.conv7 = nn.Conv2d(128, 2, 1)\n",
    "    self.pool7 = nn.AvgPool2d(3)\n",
    "\n",
    "  def forward(self, x):\n",
    "    #-------------\n",
    "    # INPUT\n",
    "    #-------------\n",
    "    x = x.view(-1, 3, 32, 32)\n",
    "    \n",
    "    #-------------\n",
    "    # LAYER 1\n",
    "    #-------------\n",
    "    output_1 = self.conv1(x)\n",
    "    output_1 = F.relu(output_1)\n",
    "    output_1 = self.batchnorm1(output_1)\n",
    "\n",
    "    #-------------\n",
    "    # LAYER 2\n",
    "    #-------------\n",
    "    output_2 = self.conv2(output_1)\n",
    "    output_2 = F.relu(output_2)\n",
    "    output_2 = self.pool2(output_2)\n",
    "    output_2 = self.batchnorm2(output_2)\n",
    "\n",
    "    #-------------\n",
    "    # LAYER 3\n",
    "    #-------------\n",
    "    output_3 = self.conv3(output_2)\n",
    "    output_3 = F.relu(output_3)\n",
    "    output_3 = self.batchnorm3(output_3)\n",
    "\n",
    "    #-------------\n",
    "    # LAYER 4\n",
    "    #-------------\n",
    "    output_4 = self.conv4(output_3)\n",
    "    output_4 = F.relu(output_4)\n",
    "    output_4 = self.pool4(output_4)\n",
    "    output_4 = self.batchnorm4(output_4)\n",
    "\n",
    "    #-------------\n",
    "    # LAYER 5\n",
    "    #-------------\n",
    "    output_5 = self.conv5(output_4)\n",
    "    output_5 = F.relu(output_5)\n",
    "    output_5 = self.batchnorm5(output_5)\n",
    "\n",
    "    #-------------\n",
    "    # LAYER 6\n",
    "    #-------------\n",
    "    output_6 = self.conv6(output_5)\n",
    "    output_6 = F.relu(output_6)\n",
    "    output_6 = self.pool6(output_6)\n",
    "    output_6 = self.batchnorm6(output_6)\n",
    "\n",
    "    #--------------\n",
    "    # OUTPUT LAYER\n",
    "    #--------------\n",
    "    output_7 = self.conv7(output_6)\n",
    "    output_7 = self.pool7(output_7)\n",
    "    output_7 = output_7.view(-1, 2)\n",
    "\n",
    "    return F.softmax(output_7, dim=1)"
   ]
  },
  {
   "attachments": {},
   "cell_type": "markdown",
   "id": "8dc65a57",
   "metadata": {},
   "source": [
    "Let's retrieve measurement data for the two global charges of interest Q0=L/2, Q1=L/2+1 "
   ]
  },
  {
   "cell_type": "code",
   "execution_count": 171,
   "id": "665de4cb",
   "metadata": {},
   "outputs": [],
   "source": [
    "# retrieve data \n",
    "import numpy as np \n",
    "p = 0.5\n",
    "measurement_record_0 = np.load(\"measurement_record_p_{}_Q_{}.npy\".format(p,0))\n",
    "measurement_record_1 = np.load(\"measurement_record_p_{}_Q_{}.npy\".format(p,1))\n",
    "measurement_records = np.concatenate([measurement_record_0,measurement_record_1],axis=0)\n",
    "depth = len(measurement_record_0[0,:,0]) # excluding very last layer containing final measurements\n",
    "L = len(measurement_record_0[0,0,:])\n",
    "num_meas_records_0 = len(measurement_record_0[:,0,0])\n",
    "num_meas_records_1 = len(measurement_record_1[:,0,0])   \n",
    "num_meas_records = num_meas_records_0+num_meas_records_1\n",
    "charge_output_0 = np.zeros(num_meas_records_0)\n",
    "charge_output_1 = np.ones(num_meas_records_1)\n",
    "charge_output = np.concatenate([charge_output_0,charge_output_1],axis=0)\n",
    "p = np.random.permutation(num_meas_records) \n",
    "X = measurement_records[p,:,:]\n",
    "y = charge_output[p]\n",
    "\n",
    "# Create the model with input shape (n, 1)\n",
    "model = create_model(input_shape=(depth,L,1))\n",
    "\n",
    "# Compile the model\n",
    "model.compile(optimizer='adam', loss='binary_crossentropy', metrics=['accuracy'])\n",
    "#measurement_records = np.zeros(2,np.shape(measurement_record_0))"
   ]
  },
  {
   "cell_type": "code",
   "execution_count": 175,
   "id": "01d720f2",
   "metadata": {},
   "outputs": [
    {
     "name": "stdout",
     "output_type": "stream",
     "text": [
      "Epoch 1/10\n",
      "249/249 [==============================] - 2s 6ms/step - loss: 0.2894 - accuracy: 0.8785 - val_loss: 0.4437 - val_accuracy: 0.8099\n",
      "Epoch 2/10\n",
      "249/249 [==============================] - 1s 6ms/step - loss: 0.2784 - accuracy: 0.8838 - val_loss: 0.4506 - val_accuracy: 0.8064\n",
      "Epoch 3/10\n",
      "249/249 [==============================] - 1s 6ms/step - loss: 0.2745 - accuracy: 0.8839 - val_loss: 0.4462 - val_accuracy: 0.8097\n",
      "Epoch 4/10\n",
      "249/249 [==============================] - 2s 6ms/step - loss: 0.2730 - accuracy: 0.8838 - val_loss: 0.4547 - val_accuracy: 0.8086\n",
      "Epoch 5/10\n",
      "249/249 [==============================] - 1s 5ms/step - loss: 0.2709 - accuracy: 0.8843 - val_loss: 0.4673 - val_accuracy: 0.8069\n",
      "Epoch 6/10\n",
      "249/249 [==============================] - 1s 5ms/step - loss: 0.2671 - accuracy: 0.8878 - val_loss: 0.4758 - val_accuracy: 0.8041\n",
      "Epoch 7/10\n",
      "249/249 [==============================] - 2s 6ms/step - loss: 0.2643 - accuracy: 0.8876 - val_loss: 0.4751 - val_accuracy: 0.8046\n",
      "Epoch 8/10\n",
      "249/249 [==============================] - 1s 6ms/step - loss: 0.2639 - accuracy: 0.8872 - val_loss: 0.4806 - val_accuracy: 0.8031\n",
      "Epoch 9/10\n",
      "249/249 [==============================] - 2s 6ms/step - loss: 0.2560 - accuracy: 0.8910 - val_loss: 0.4896 - val_accuracy: 0.8034\n",
      "Epoch 10/10\n",
      "249/249 [==============================] - 1s 5ms/step - loss: 0.2535 - accuracy: 0.8941 - val_loss: 0.4978 - val_accuracy: 0.8019\n"
     ]
    },
    {
     "data": {
      "text/plain": [
       "<keras.callbacks.History at 0x7fc1105c4c40>"
      ]
     },
     "execution_count": 175,
     "metadata": {},
     "output_type": "execute_result"
    }
   ],
   "source": [
    "# Train the model\n",
    "model.fit(X, y, epochs=10, batch_size=32, validation_split=0.2)"
   ]
  },
  {
   "cell_type": "code",
   "execution_count": 168,
   "id": "1b59dd90",
   "metadata": {},
   "outputs": [
    {
     "data": {
      "text/plain": [
       "Text(0, 0.5, 'accuracy')"
      ]
     },
     "execution_count": 168,
     "metadata": {},
     "output_type": "execute_result"
    },
    {
     "data": {
      "image/png": "[encoded data removed]",
      "text/plain": [
       "<Figure size 640x480 with 1 Axes>"
      ]
     },
     "metadata": {},
     "output_type": "display_data"
    }
   ],
   "source": [
    "import matplotlib.pyplot as plt \n",
    "val_accuracy = [0.5549, 0.7372, 0.7638, 0.9407, 0.9173, 0.8571, 0.8250, 0.9796, 0.98, 0.8475, 0.8546]\n",
    "# val_accuracy_0.5 = 0.8263\n",
    "meas_probas = [0, 0.1, 0.2, 0.3, 0.4, 0.5, 0.6, 0.7, 0.8, 0.9, 1.0]\n",
    "plt.plot(meas_probas, val_accuracy)\n",
    "plt.xlabel('measurement rate p')\n",
    "plt.ylabel('accuracy')"
   ]
  },
  {
   "attachments": {},
   "cell_type": "markdown",
   "id": "c1175e5a",
   "metadata": {},
   "source": [
    "This will train the model for 10 epochs with a batch size of 32 and a validation split of 0.2. During training, the model will update its weights to minimize the binary crossentropy loss between the predicted output and the true output labels. Once trained, the model can be used to classify new input bitstrings by calling the predict function:"
   ]
  },
  {
   "cell_type": "code",
   "execution_count": 114,
   "id": "7f4d260c",
   "metadata": {},
   "outputs": [
    {
     "name": "stdout",
     "output_type": "stream",
     "text": [
      "99\n",
      "(1, 11, 12)\n",
      "1/1 [==============================] - 0s 28ms/step\n",
      "[[0.9978032]]\n"
     ]
    }
   ],
   "source": [
    "# Predict the output for a new input bitstring\n",
    "print(len(measurement_record_1))\n",
    "new_bitstring = measurement_records[102:103,:,:]\n",
    "print(np.shape(new_bitstring))\n",
    "predicted_output = model.predict(new_bitstring)\n",
    "print(predicted_output)\n"
   ]
  },
  {
   "attachments": {},
   "cell_type": "markdown",
   "id": "0c44da42",
   "metadata": {},
   "source": [
    "This will return the predicted output label for the new input bitstring, which will be a value between 0 and 1 representing the probability that the blackbox function will output 1 for that input. The predicted output can be thresholded to obtain a binary classification by setting a threshold value, such as 0.5:"
   ]
  },
  {
   "cell_type": "code",
   "execution_count": null,
   "id": "4be96aaf",
   "metadata": {},
   "outputs": [],
   "source": [
    "# Threshold the predicted output to obtain a binary classification\n",
    "binary_output = 1 if predicted_output >= 0.5 else 0\n"
   ]
  }
 ],
 "metadata": {
  "kernelspec": {
   "display_name": "mipt",
   "language": "python",
   "name": "python3"
  },
  "language_info": {
   "codemirror_mode": {
    "name": "ipython",
    "version": 3
   },
   "file_extension": ".py",
   "mimetype": "text/x-python",
   "name": "python",
   "nbconvert_exporter": "python",
   "pygments_lexer": "ipython3",
   "version": "3.10.9"
  },
  "toc": {
   "base_numbering": 1,
   "nav_menu": {},
   "number_sections": true,
   "sideBar": true,
   "skip_h1_title": false,
   "title_cell": "Table of Contents",
   "title_sidebar": "Contents",
   "toc_cell": false,
   "toc_position": {},
   "toc_section_display": true,
   "toc_window_display": false
  },
  "vscode": {
   "interpreter": {
    "hash": "aad86ddac81a43bb81118cddf5163a8939b57853c2b56092156bc0fb02e20aa3"
   }
  }
 },
 "nbformat": 4,
 "nbformat_minor": 5
}
